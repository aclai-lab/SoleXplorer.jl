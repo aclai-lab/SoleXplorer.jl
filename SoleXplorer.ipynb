{
 "cells": [
  {
   "cell_type": "markdown",
   "metadata": {},
   "source": [
    "# SoleXplorer\n",
    "\n",
    "### The Swiss Army knife for machine learning"
   ]
  },
  {
   "cell_type": "code",
   "execution_count": 1,
   "metadata": {},
   "outputs": [
    {
     "name": "stderr",
     "output_type": "stream",
     "text": [
      "\u001b[32m\u001b[1m  Activating\u001b[22m\u001b[39m project at `~/Documents/Aclai/Sole/SoleXplorer.jl`\n",
      "\u001b[36m\u001b[1m[ \u001b[22m\u001b[39m\u001b[36m\u001b[1mInfo: \u001b[22m\u001b[39mRunning `conda config --set pip_interop_enabled true --file /home/paso/.julia/conda/3/x86_64/condarc-julia.yml` in root environment\n",
      "\u001b[36m\u001b[1m[ \u001b[22m\u001b[39m\u001b[36m\u001b[1mInfo: \u001b[22m\u001b[39mRunning `pip install git+https://github.com/jobregon1212/rulecosi.git` in root environment\n"
     ]
    },
    {
     "name": "stdout",
     "output_type": "stream",
     "text": [
      "Collecting git+https://github.com/jobregon1212/rulecosi.git\n",
      "  Cloning https://github.com/jobregon1212/rulecosi.git to /tmp/pip-req-build-k3kgz0t8\n"
     ]
    },
    {
     "name": "stderr",
     "output_type": "stream",
     "text": [
      "  Running command git clone --filter=blob:none --quiet https://github.com/jobregon1212/rulecosi.git /tmp/pip-req-build-k3kgz0t8\n"
     ]
    },
    {
     "name": "stdout",
     "output_type": "stream",
     "text": [
      "  Resolved https://github.com/jobregon1212/rulecosi.git to commit cd7acee23c9c2f6e7f433aafac7bab446b67f3d2\n",
      "  Preparing metadata (setup.py): started\n",
      "  Preparing metadata (setup.py): finished with status 'done'\n",
      "Requirement already satisfied: pandas in /home/paso/.julia/conda/3/x86_64/lib/python3.12/site-packages (from rulecosi==0.0.2) (2.2.3)\n",
      "Requirement already satisfied: numpy in /home/paso/.julia/conda/3/x86_64/lib/python3.12/site-packages (from rulecosi==0.0.2) (2.1.3)\n",
      "Requirement already satisfied: scipy in /home/paso/.julia/conda/3/x86_64/lib/python3.12/site-packages (from rulecosi==0.0.2) (1.15.2)\n",
      "Requirement already satisfied: scikit-learn in /home/paso/.julia/conda/3/x86_64/lib/python3.12/site-packages (from rulecosi==0.0.2) (1.6.1)\n",
      "Requirement already satisfied: bitarray in /home/paso/.julia/conda/3/x86_64/lib/python3.12/site-packages (from rulecosi==0.0.2) (3.2.0)\n",
      "Requirement already satisfied: gmpy2 in /home/paso/.julia/conda/3/x86_64/lib/python3.12/site-packages (from rulecosi==0.0.2) (2.2.1)\n",
      "Requirement already satisfied: python-dateutil>=2.8.2 in /home/paso/.julia/conda/3/x86_64/lib/python3.12/site-packages (from pandas->rulecosi==0.0.2) (2.9.0)\n",
      "Requirement already satisfied: pytz>=2020.1 in /home/paso/.julia/conda/3/x86_64/lib/python3.12/site-packages (from pandas->rulecosi==0.0.2) (2024.1)\n",
      "Requirement already satisfied: tzdata>=2022.7 in /home/paso/.julia/conda/3/x86_64/lib/python3.12/site-packages (from pandas->rulecosi==0.0.2) (2025.1)\n",
      "Requirement already satisfied: joblib>=1.2.0 in /home/paso/.julia/conda/3/x86_64/lib/python3.12/site-packages (from scikit-learn->rulecosi==0.0.2) (1.4.2)\n",
      "Requirement already satisfied: threadpoolctl>=3.1.0 in /home/paso/.julia/conda/3/x86_64/lib/python3.12/site-packages (from scikit-learn->rulecosi==0.0.2) (3.5.0)\n",
      "Requirement already satisfied: six>=1.5 in /home/paso/.julia/conda/3/x86_64/lib/python3.12/site-packages (from python-dateutil>=2.8.2->pandas->rulecosi==0.0.2) (1.16.0)\n"
     ]
    },
    {
     "name": "stderr",
     "output_type": "stream",
     "text": [
      "\u001b[36m\u001b[1m[ \u001b[22m\u001b[39m\u001b[36m\u001b[1mInfo: \u001b[22m\u001b[39mRunning `pip install scikit-learn` in root environment\n"
     ]
    },
    {
     "name": "stdout",
     "output_type": "stream",
     "text": [
      "Requirement already satisfied: scikit-learn in /home/paso/.julia/conda/3/x86_64/lib/python3.12/site-packages (1.6.1)\n",
      "Requirement already satisfied: numpy>=1.19.5 in /home/paso/.julia/conda/3/x86_64/lib/python3.12/site-packages (from scikit-learn) (2.1.3)\n",
      "Requirement already satisfied: scipy>=1.6.0 in /home/paso/.julia/conda/3/x86_64/lib/python3.12/site-packages (from scikit-learn) (1.15.2)\n",
      "Requirement already satisfied: joblib>=1.2.0 in /home/paso/.julia/conda/3/x86_64/lib/python3.12/site-packages (from scikit-learn) (1.4.2)\n",
      "Requirement already satisfied: threadpoolctl>=3.1.0 in /home/paso/.julia/conda/3/x86_64/lib/python3.12/site-packages (from scikit-learn) (3.5.0)\n"
     ]
    }
   ],
   "source": [
    "using SoleXplorer"
   ]
  },
  {
   "cell_type": "markdown",
   "metadata": {},
   "source": [
    "Load NATOPS dataset, composed of time series"
   ]
  },
  {
   "cell_type": "code",
   "execution_count": 2,
   "metadata": {},
   "outputs": [
    {
     "data": {
      "text/plain": [
       "(\u001b[1m360×24 DataFrame\u001b[0m\n",
       "\u001b[1m Row \u001b[0m│\u001b[1m X[Hand tip l]                     \u001b[0m\u001b[1m Y[Hand tip l]                     \u001b[0m\u001b[1m Z\u001b[0m ⋯\n",
       "     │\u001b[90m Array…                            \u001b[0m\u001b[90m Array…                            \u001b[0m\u001b[90m A\u001b[0m ⋯\n",
       "─────┼──────────────────────────────────────────────────────────────────────────\n",
       "   1 │ [-0.519771, -0.52758, -0.531415,…  [-2.14011, -2.18043, -2.18425, -…  [ ⋯\n",
       "   2 │ [-0.489753, -0.48607, -0.484529,…  [-1.55293, -1.54966, -1.55206, -…  [\n",
       "   3 │ [-0.521346, -0.518394, -0.522321…  [-1.72326, -1.72407, -1.72326, -…  [\n",
       "   4 │ [-0.57022, -0.562064, -0.565967,…  [-1.91196, -1.90369, -1.90527, -…  [\n",
       "   5 │ [-0.624417, -0.626031, -0.625388…  [-1.84287, -1.84026, -1.84688, -…  [ ⋯\n",
       "   6 │ [-0.502501, -0.502525, -0.499415…  [-2.17556, -2.15613, -2.18516, -…  [\n",
       "   7 │ [-0.488461, -0.489463, -0.487539…  [-2.17242, -2.18203, -2.18057, -…  [\n",
       "   8 │ [-0.468105, -0.410602, -0.473909…  [-1.86535, -1.89011, -1.87105, -…  [\n",
       "  ⋮  │                 ⋮                                  ⋮                    ⋱\n",
       " 354 │ [-0.500404, -0.502824, -0.504771…  [-1.89209, -1.88986, -1.89188, -…  [ ⋯\n",
       " 355 │ [-0.686893, -0.690966, -0.710514…  [-2.04375, -2.05011, -2.07035, -…  [\n",
       " 356 │ [-0.525938, -0.516073, -0.5177, …  [-1.69259, -1.70519, -1.70824, -…  [\n",
       " 357 │ [-0.440887, -0.452221, -0.447185…  [-1.90444, -1.91917, -1.91652, -…  [\n",
       " 358 │ [-0.647672, -0.653511, -0.642305…  [-1.6173, -1.61051, -1.60491, -1…  [ ⋯\n",
       " 359 │ [-0.476117, -0.4705, -0.474443, …  [-1.70846, -1.7099, -1.70912, -1…  [\n",
       " 360 │ [-0.553245, -0.551704, -0.548044…  [-1.69493, -1.69349, -1.69951, -…  [\n",
       "\u001b[36m                                                 22 columns and 345 rows omitted\u001b[0m, CategoricalArrays.CategoricalValue{String, UInt32}[\"I have command\", \"I have command\", \"I have command\", \"I have command\", \"I have command\", \"I have command\", \"I have command\", \"I have command\", \"I have command\", \"I have command\"  …  \"Lock wings\", \"Lock wings\", \"Lock wings\", \"Lock wings\", \"Lock wings\", \"Lock wings\", \"Lock wings\", \"Lock wings\", \"Lock wings\", \"Lock wings\"])"
      ]
     },
     "metadata": {},
     "output_type": "display_data"
    }
   ],
   "source": [
    "X, y = load_arff_dataset(\"NATOPS\")"
   ]
  },
  {
   "cell_type": "markdown",
   "metadata": {},
   "source": [
    "### downsize dataset\n",
    "it is important to downsize the dataset to avoid long running times and to avoid memory issues"
   ]
  },
  {
   "cell_type": "code",
   "execution_count": null,
   "metadata": {},
   "outputs": [
    {
     "data": {
      "text/plain": [
       "Xoshiro(0x0991231718e930cb, 0x28e1460087a5d0ff, 0x4d62c780da1946f0, 0x764f51fefd621192, 0x434e1895e0078176)"
      ]
     },
     "metadata": {},
     "output_type": "display_data"
    }
   ],
   "source": [
    "using StatsBase: sample\n",
    "num_cols_to_sample, num_rows_to_sample, rng = 10, 50, Xoshiro(11)\n",
    "chosen_cols = sample(rng, 1:size(X, 2), num_cols_to_sample; replace=false)\n",
    "chosen_rows = sample(rng, 1:size(X, 1), num_rows_to_sample; replace=false)\n",
    "X = X[chosen_rows, chosen_cols]\n",
    "y = y[chosen_rows]"
   ]
  },
  {
   "cell_type": "code",
   "execution_count": null,
   "metadata": {},
   "outputs": [],
   "source": []
  },
  {
   "cell_type": "markdown",
   "metadata": {},
   "source": [
    "### Let's start diving into available models\n",
    "## Decision Tree"
   ]
  },
  {
   "cell_type": "code",
   "execution_count": null,
   "metadata": {},
   "outputs": [],
   "source": [
    "model = symbolic_analysis(X, y; models=(type=:decisiontree,), preprocess=(;rng))"
   ]
  },
  {
   "cell_type": "markdown",
   "metadata": {},
   "source": [
    "For reproducible experiments, always include 'preprocess=(;rng)' in your 'preprocess' configuration."
   ]
  },
  {
   "cell_type": "markdown",
   "metadata": {},
   "source": [
    "# Utility Functions"
   ]
  },
  {
   "cell_type": "markdown",
   "metadata": {},
   "source": [
    "## prepare_dataset\n",
    "if it's not needed to train a model, but only prepare dataset for future analisys, prepare_dataset should be used.\n",
    "Will return a Modelset structure.\n",
    "\n",
    "Please remember that proper dataset preparation is model dependent, expecially modal experiments need ad hoc dataset preparation."
   ]
  },
  {
   "cell_type": "markdown",
   "metadata": {},
   "source": [
    "### Example 1:\n",
    "No extra parameters passed: it will be used default model: decision tree."
   ]
  },
  {
   "cell_type": "code",
   "execution_count": 2,
   "metadata": {},
   "outputs": [
    {
     "name": "stderr",
     "output_type": "stream",
     "text": [
      "┌ Error: Failed to revise /home/paso/Documents/Aclai/Sole/SoleXplorer.jl/src/interface.jl\n",
      "│   exception = Revise.ReviseEvalException(\"/home/paso/Documents/Aclai/Sole/SoleXplorer.jl/none:0\", ErrorException(\"invalid redefinition of constant SoleXplorer.DatasetInfo\"), Any[(top-level scope at none:0, 1)])\n",
      "└ @ Revise /home/paso/.julia/packages/Revise/mLfYT/src/packagedef.jl:776\n",
      "┌ Warning: The running code does not match the saved version for the following files:\n",
      "│ \n",
      "│   /home/paso/Documents/Aclai/Sole/SoleXplorer.jl/src/interface.jl\n",
      "│ \n",
      "│ If the error was due to evaluation order, it can sometimes be resolved by calling `Revise.retry()`.\n",
      "│ Use Revise.errors() to report errors again. Only the first error in each file is shown.\n",
      "│ Your prompt color may be yellow until the errors are resolved.\n",
      "└ @ Revise /home/paso/.julia/packages/Revise/mLfYT/src/packagedef.jl:893\n"
     ]
    },
    {
     "ename": "UndefVarError",
     "evalue": "UndefVarError: `X` not defined in `Main`\nSuggestion: check for spelling errors or missing imports.\nHint: a global variable of this name may be made accessible by importing DimensionalData in the current active module Main",
     "output_type": "error",
     "traceback": [
      "UndefVarError: `X` not defined in `Main`\n",
      "Suggestion: check for spelling errors or missing imports.\n",
      "Hint: a global variable of this name may be made accessible by importing DimensionalData in the current active module Main\n",
      "\n",
      "Stacktrace:\n",
      " [1] top-level scope\n",
      "   @ ~/Documents/Aclai/Sole/SoleXplorer.jl/jl_notebook_cell_df34fa98e69747e1a8f8a730347b8e2f_X21sZmlsZQ==.jl:1"
     ]
    }
   ],
   "source": [
    "no_parameters = prepare_dataset(X, y)"
   ]
  },
  {
   "cell_type": "markdown",
   "metadata": {},
   "source": [
    "### Example 2:\n",
    "model type passed: dataset will be prepared for modal tasks."
   ]
  },
  {
   "cell_type": "code",
   "execution_count": null,
   "metadata": {},
   "outputs": [],
   "source": [
    "model_type = prepare_dataset(X, y; model=(type=:modaldecisiontree,))"
   ]
  },
  {
   "cell_type": "markdown",
   "metadata": {},
   "source": [
    "### Example 3:\n",
    "Also pass parameters specific to model choosen."
   ]
  },
  {
   "cell_type": "code",
   "execution_count": null,
   "metadata": {},
   "outputs": [],
   "source": [
    "parametrized_model_type = prepare_dataset(X, y; \n",
    "model=(type=:xgboost,\n",
    "        params=(\n",
    "            num_round=20, \n",
    "            booster=\"gbtree\", \n",
    "            eta=0.5,\n",
    "            num_parallel_tree=10, \n",
    "            max_depth=8, \n",
    "        )\n",
    "    )\n",
    ")"
   ]
  }
 ],
 "metadata": {
  "kernelspec": {
   "display_name": "Julia 1.11.4",
   "language": "julia",
   "name": "julia-1.11"
  },
  "language_info": {
   "file_extension": ".jl",
   "mimetype": "application/julia",
   "name": "julia",
   "version": "1.11.4"
  }
 },
 "nbformat": 4,
 "nbformat_minor": 2
}
