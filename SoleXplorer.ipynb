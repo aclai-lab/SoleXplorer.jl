{
 "cells": [
  {
   "cell_type": "markdown",
   "metadata": {},
   "source": [
    "# SoleXplorer\n",
    "\n",
    "### The Swiss Army knife for machine learning"
   ]
  },
  {
   "cell_type": "code",
   "execution_count": 1,
   "metadata": {},
   "outputs": [],
   "source": [
    "using SoleXplorer"
   ]
  },
  {
   "cell_type": "markdown",
   "metadata": {},
   "source": [
    "Load NATOPS dataset, composed of time series"
   ]
  },
  {
   "cell_type": "code",
   "execution_count": 2,
   "metadata": {},
   "outputs": [
    {
     "data": {
      "text/plain": [
       "(\u001b[1m360×24 DataFrame\u001b[0m\n",
       "\u001b[1m Row \u001b[0m│\u001b[1m X[Hand tip l]                     \u001b[0m\u001b[1m Y[Hand tip l]                     \u001b[0m\u001b[1m Z\u001b[0m ⋯\n",
       "     │\u001b[90m Array…                            \u001b[0m\u001b[90m Array…                            \u001b[0m\u001b[90m A\u001b[0m ⋯\n",
       "─────┼──────────────────────────────────────────────────────────────────────────\n",
       "   1 │ [-0.519771, -0.52758, -0.531415,…  [-2.14011, -2.18043, -2.18425, -…  [ ⋯\n",
       "   2 │ [-0.489753, -0.48607, -0.484529,…  [-1.55293, -1.54966, -1.55206, -…  [\n",
       "   3 │ [-0.521346, -0.518394, -0.522321…  [-1.72326, -1.72407, -1.72326, -…  [\n",
       "   4 │ [-0.57022, -0.562064, -0.565967,…  [-1.91196, -1.90369, -1.90527, -…  [\n",
       "   5 │ [-0.624417, -0.626031, -0.625388…  [-1.84287, -1.84026, -1.84688, -…  [ ⋯\n",
       "   6 │ [-0.502501, -0.502525, -0.499415…  [-2.17556, -2.15613, -2.18516, -…  [\n",
       "   7 │ [-0.488461, -0.489463, -0.487539…  [-2.17242, -2.18203, -2.18057, -…  [\n",
       "   8 │ [-0.468105, -0.410602, -0.473909…  [-1.86535, -1.89011, -1.87105, -…  [\n",
       "  ⋮  │                 ⋮                                  ⋮                    ⋱\n",
       " 354 │ [-0.500404, -0.502824, -0.504771…  [-1.89209, -1.88986, -1.89188, -…  [ ⋯\n",
       " 355 │ [-0.686893, -0.690966, -0.710514…  [-2.04375, -2.05011, -2.07035, -…  [\n",
       " 356 │ [-0.525938, -0.516073, -0.5177, …  [-1.69259, -1.70519, -1.70824, -…  [\n",
       " 357 │ [-0.440887, -0.452221, -0.447185…  [-1.90444, -1.91917, -1.91652, -…  [\n",
       " 358 │ [-0.647672, -0.653511, -0.642305…  [-1.6173, -1.61051, -1.60491, -1…  [ ⋯\n",
       " 359 │ [-0.476117, -0.4705, -0.474443, …  [-1.70846, -1.7099, -1.70912, -1…  [\n",
       " 360 │ [-0.553245, -0.551704, -0.548044…  [-1.69493, -1.69349, -1.69951, -…  [\n",
       "\u001b[36m                                                 22 columns and 345 rows omitted\u001b[0m, CategoricalArrays.CategoricalValue{String, UInt32}[\"I have command\", \"I have command\", \"I have command\", \"I have command\", \"I have command\", \"I have command\", \"I have command\", \"I have command\", \"I have command\", \"I have command\"  …  \"Lock wings\", \"Lock wings\", \"Lock wings\", \"Lock wings\", \"Lock wings\", \"Lock wings\", \"Lock wings\", \"Lock wings\", \"Lock wings\", \"Lock wings\"])"
      ]
     },
     "metadata": {},
     "output_type": "display_data"
    }
   ],
   "source": [
    "X, y = load_arff_dataset(\"NATOPS\")"
   ]
  },
  {
   "cell_type": "markdown",
   "metadata": {},
   "source": [
    "### downsize dataset\n",
    "it is important to downsize the dataset to avoid long running times and to avoid memory issues"
   ]
  },
  {
   "cell_type": "code",
   "execution_count": null,
   "metadata": {},
   "outputs": [
    {
     "data": {
      "text/plain": [
       "Xoshiro(0x0991231718e930cb, 0x28e1460087a5d0ff, 0x4d62c780da1946f0, 0x764f51fefd621192, 0x434e1895e0078176)"
      ]
     },
     "metadata": {},
     "output_type": "display_data"
    }
   ],
   "source": [
    "using StatsBase: sample\n",
    "num_cols_to_sample, num_rows_to_sample, rng = 10, 50, Xoshiro(11)\n",
    "chosen_cols = sample(rng, 1:size(X, 2), num_cols_to_sample; replace=false)\n",
    "chosen_rows = sample(rng, 1:size(X, 1), num_rows_to_sample; replace=false)\n",
    "X = X[chosen_rows, chosen_cols]\n",
    "y = y[chosen_rows]"
   ]
  },
  {
   "cell_type": "code",
   "execution_count": null,
   "metadata": {},
   "outputs": [],
   "source": []
  },
  {
   "cell_type": "markdown",
   "metadata": {},
   "source": [
    "### Let's start diving into available models\n",
    "## Decision Tree"
   ]
  },
  {
   "cell_type": "code",
   "execution_count": null,
   "metadata": {},
   "outputs": [],
   "source": [
    "model = symbolic_analysis(X, y; models=(type=:decisiontree,), preprocess=(;rng))"
   ]
  },
  {
   "cell_type": "markdown",
   "metadata": {},
   "source": [
    "For reproducible experiments, always include 'preprocess=(;rng)' in your 'preprocess' configuration."
   ]
  }
 ],
 "metadata": {
  "kernelspec": {
   "display_name": "Julia 1.11.4",
   "language": "julia",
   "name": "julia-1.11"
  },
  "language_info": {
   "file_extension": ".jl",
   "mimetype": "application/julia",
   "name": "julia",
   "version": "1.11.4"
  }
 },
 "nbformat": 4,
 "nbformat_minor": 2
}
